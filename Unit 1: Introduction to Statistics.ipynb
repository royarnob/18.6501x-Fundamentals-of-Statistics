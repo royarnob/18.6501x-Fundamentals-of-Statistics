{
 "cells": [
  {
   "cell_type": "markdown",
   "metadata": {},
   "source": [
    "#### **Lecture 1: What is Statistics**"
   ]
  },
  {
   "cell_type": "markdown",
   "metadata": {},
   "source": [
    "#### **Probability Review: Dice Rolling Game**\n",
    "\n",
    "Alice and Bob play a game where two fair-sided dice are rolled.\n",
    "\n",
    "Alice gets $\\$1$ if the sum of the numbers of the two dice is a prime number. (The number 1 is not prime.)\n",
    "\n",
    "Bob gets $\\$3$ if the numbers of the two dice are the same. (e.g. 1-1, 2-2, ...)\n",
    "\n",
    "Who makes more money on average? (i.e. in expectation)"
   ]
  },
  {
   "cell_type": "markdown",
   "metadata": {},
   "source": [
    "***My Answer Attempt.*** <br>\n",
    "\n",
    "The collection of prime numbers between $2$ and $12$ is: $\\{2, 3, 5, 7, 11\\}$ <br>\n",
    "\n",
    "The different ways to roll the prime numbers are:\n",
    "\n",
    "\\begin{aligned}\n",
    "2 &: \\{ (1,1) \\} \\\\\n",
    "3 &: \\{ (1,2),\\ (2,1) \\} \\\\\n",
    "5 &: \\{ (1,4),\\ (2,3),\\ (3,2),\\ (4,1) \\} \\\\\n",
    "7 &: \\{ (1,6),\\ (2,5),\\ (3,4),\\ (4,3),\\ (5,2),\\ (6,1) \\} \\\\\n",
    "11 &: \\{ (5,6),\\ (6,5) \\} \\\\\n",
    "\\end{aligned}\n",
    "\n",
    "We calculate Alice's expectation as:\n",
    "\n",
    "\\begin{aligned}\n",
    "\\mathbb{E}(Alice) &= \\mathbb{P}(\\text{sum of the numbers is a prime number})\\cdot \\$1 \\\\\n",
    "\\\\\n",
    "\\mathbb{E}(Alice) &= \\frac{\\# \\text{ rolls that are prime numbers}}{\\# \\text{ all possible dice rolls}}\\cdot \\$1 \\\\\n",
    "\\\\\n",
    "\\mathbb{E}(Alice) &= \\frac{1+2+4+6+2}{36}\\cdot \\$1 \\\\\n",
    "\\\\\n",
    "\\mathbb{E}(Alice) &= \\frac{15}{36} \\cdot \\$1 \\\\\n",
    "\\\\\n",
    "\\mathbb{E}(Alice) &= \\$0.42 \\\\\n",
    "\\end{aligned}\n",
    "\n",
    "We calculate Bob's expectation as:\n",
    "\\begin{aligned}\n",
    "\\mathbb{E}(Bob) &= \\mathbb{P}(\\text{numbers of the two dice are the same})\\cdot \\$3 \\\\\n",
    "\\\\\n",
    "\\mathbb{E}(Bob) &= \\frac{\\# \\text{ rolls that are the same}}{\\# \\text{ all possible dice rolls}}\\cdot \\$3 \\\\\n",
    "\\\\\n",
    "\\mathbb{E}(Bob) &= \\frac{6}{36}\\cdot \\$3 \\\\\n",
    "\\\\\n",
    "\\mathbb{E}(Bob) &= \\frac{18}{36}\\cdot \\$3 \\\\\n",
    "\\\\\n",
    "\\mathbb{E}(Bob) &= \\$0.50 \\\\\n",
    "\\end{aligned}"
   ]
  },
  {
   "cell_type": "code",
   "execution_count": 10,
   "metadata": {},
   "outputs": [
    {
     "name": "stdout",
     "output_type": "stream",
     "text": [
      "Alice's expected payout is: $0.42\n",
      "Bob's expected payout is: $0.5\n"
     ]
    }
   ],
   "source": [
    "#Alice's Expectation\n",
    "prime_rolls = 1+2+4+6+2\n",
    "possible_rolls = 36\n",
    "alice_expec = (prime_rolls / possible_rolls) * 1; print(\"Alice's expected payout is: $\" + str(round(alice_expec, 2)))\n",
    "\n",
    "#Bob's Expectation\n",
    "same_rolls = 6\n",
    "bob_expec = (same_rolls / possible_rolls) * 3; print(\"Bob's expected payout is: $\" + str(round(bob_expec, 2)))\n",
    "\n"
   ]
  },
  {
   "cell_type": "markdown",
   "metadata": {},
   "source": []
  }
 ],
 "metadata": {
  "kernelspec": {
   "display_name": "Python 3",
   "language": "python",
   "name": "python3"
  },
  "language_info": {
   "codemirror_mode": {
    "name": "ipython",
    "version": 3
   },
   "file_extension": ".py",
   "mimetype": "text/x-python",
   "name": "python",
   "nbconvert_exporter": "python",
   "pygments_lexer": "ipython3",
   "version": "3.8.9"
  }
 },
 "nbformat": 4,
 "nbformat_minor": 2
}
